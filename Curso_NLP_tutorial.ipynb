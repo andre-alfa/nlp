{
  "nbformat": 4,
  "nbformat_minor": 0,
  "metadata": {
    "colab": {
      "name": "Curso_NLP_tutorial.ipynb",
      "version": "0.3.2",
      "provenance": [],
      "toc_visible": true,
      "include_colab_link": true
    },
    "kernelspec": {
      "name": "python3",
      "display_name": "Python 3"
    }
  },
  "cells": [
    {
      "cell_type": "markdown",
      "metadata": {
        "id": "view-in-github",
        "colab_type": "text"
      },
      "source": [
        "<a href=\"https://colab.research.google.com/github/andre-alfa/nlp/blob/master/Curso_NLP_tutorial.ipynb\" target=\"_parent\"><img src=\"https://colab.research.google.com/assets/colab-badge.svg\" alt=\"Open In Colab\"/></a>"
      ]
    },
    {
      "cell_type": "code",
      "metadata": {
        "id": "G3oeHyqObhZa",
        "colab_type": "code",
        "colab": {}
      },
      "source": [
        "import nltk\n"
      ],
      "execution_count": 0,
      "outputs": []
    },
    {
      "cell_type": "code",
      "metadata": {
        "id": "vym5RNDGb_oB",
        "colab_type": "code",
        "outputId": "89f5aeff-622b-4cc6-b115-029be3d9965b",
        "colab": {
          "base_uri": "https://localhost:8080/",
          "height": 51
        }
      },
      "source": [
        "nltk.download('machado')"
      ],
      "execution_count": 0,
      "outputs": [
        {
          "output_type": "stream",
          "text": [
            "[nltk_data] Downloading package machado to /root/nltk_data...\n"
          ],
          "name": "stdout"
        },
        {
          "output_type": "execute_result",
          "data": {
            "text/plain": [
              "True"
            ]
          },
          "metadata": {
            "tags": []
          },
          "execution_count": 2
        }
      ]
    },
    {
      "cell_type": "code",
      "metadata": {
        "id": "X9O3KAQTcoTT",
        "colab_type": "code",
        "colab": {}
      },
      "source": [
        "from nltk.corpus import machado\n"
      ],
      "execution_count": 0,
      "outputs": []
    },
    {
      "cell_type": "code",
      "metadata": {
        "id": "oZHdwLOyc0WI",
        "colab_type": "code",
        "outputId": "59f2dfbc-5bdd-4f9e-e444-f6e7695d2712",
        "colab": {
          "base_uri": "https://localhost:8080/",
          "height": 54
        }
      },
      "source": [
        "machado.readme()"
      ],
      "execution_count": 0,
      "outputs": [
        {
          "output_type": "execute_result",
          "data": {
            "text/plain": [
              "\"Machado de Assis -- Obra Completa\\n\\nhttp://machado.mec.gov.br/\\n\\nPublic Domain\\n\\nContents:\\n\\nRomance\\n\\nromance/marm01.txt: Ressurreição (1872)\\nromance/marm02.txt: A Mão e a Luva (1874)\\nromance/marm03.txt: Helena (1876)\\nromance/marm04.txt: Iaiá Garcia (1878)\\nromance/marm05.txt: Memórias Póstumas de Brás Cubas (1881)\\nromance/marm06.txt: Casa Velha (1885)\\nromance/marm07.txt: Quincas Borba (1891)\\nromance/marm08.txt: Dom Casmurro (1899)\\nromance/marm09.txt: Esaú e Jacó (1904)\\nromance/marm10.txt: Memorial de Aires (1908)\\n\\nPoesia\\n\\npoesia/maps01.txt: Crisálidas (1864)\\npoesia/maps02.txt: Falenas (1870)\\npoesia/maps03.txt: Americanas (1875)\\npoesia/maps04.txt: Gazeta de Holanda (1886-88)\\npoesia/maps05.txt: Ocidentais (1901)\\npoesia/maps06.txt: O Almada (1908)\\npoesia/maps07.txt: Dispersas (1854-1939)\\n\\nContos\\n\\ncontos/macn001.txt: Contos Fluminenses (1870); Miss Dollar; Luís Soares; A mulher de preto; O segredo de Augusta; Confissões de uma viúva moça; Linha reta e linha curva; Frei Sim\\ncontos/macn002.txt: Histórias da meia-noite (1873); A parasita azul; As bodas de Luís Duarte; Ernesto de Tal; Aurora sem dia; O relógio de ouro; Ponto de vista\\ncontos/macn003.txt: Papéis avulsos (1882); O alienista; Teoria do medalhão; A chinela turca; Na arca; D. Benedita; O segredo do bonzo; O anel de Polícrates; O empréstimo; A sereníssima república; O espelho; Uma visita de Alcibíades; Verba testamentária\\ncontos/macn004.txt: Histórias sem data (1884); A igreja do Diabo; O lapso; Último capítulo; Cantiga de esponsais; Singular ocorrência; Galeria póstuma; Capítulo dos chapéus; Conto alexandrino; Rimas de Sapucaia!; Uma senhora; Anedota pecuniária; Fulano; A segunda vida; Noite de almirante; Manuscrito de um sacristão; Ex cathedra; A senhora do Galvão; As academias de Sião\\ncontos/macn005.txt: Várias histórias (1896); A cartomante; Entre santos; Uns braços; Um homem célebre; A desejada das gentes; A causa secreta; Trio em lá menor; Adão e Eva; O enfermeiro; O diplomático; Mariana; Conto de escola; Um apólogo; D. Paula; Viver!; O cônego ou Metafísica do estilo\\ncontos/macn006.txt: Páginas recolhidas (1899); O caso da vara; O dicionário; Um erradio; Eterno!; Missa do galo; Idéias de canário; Lágrimas de Xerxes; Papéis velhos\\ncontos/macn007.txt: Relíquias de Casa Velha (1906); Pai contra mãe; Maria Cora; Marcha fúnebre; Um capitão de voluntários; Suje-se gordo!; Umas férias; Evolução; Pílades e Orestes; Anedota do cabriolet\\n\\nTraducao\\n\\ntraducao/matr01.txt: Suplício de uma mulher (1865)\\ntraducao/matr02.txt: Os trabalhadores do mar (1866)\\ntraducao/matr03.txt: Oliver Twist (1870)\\n\\nTeatro\\n\\nteatro/matt01.txt: As forcas caudinas (1956)\\nteatro/matt02.txt: Hoje avental, amanhã luva (1860)\\nteatro/matt03.txt: Desencantos (1861)\\nteatro/matt04.txt: O caminho da porta / O protocolo (1863)\\nteatro/matt05.txt: Quase ministro (1864)\\nteatro/matt06.txt: Os deuses de casaca (1866)\\nteatro/matt07.txt: O bote de rapé (1878)\\nteatro/matt08.txt: Tu, só tu, puro amor (1880)\\nteatro/matt09.txt: Não consultes médico (1899)\\nteatro/matt10.txt: Lição de botânica (1906)\\n\\nCronica\\n\\ncronica/macr01.txt: Comentários da semana (1861-1863)\\ncronica/macr02.txt: Crônicas do Dr. Semana (1861-1864)\\ncronica/macr03.txt: Crônicas - O futuro (1862-1863)\\ncronica/macr04.txt: Ao acaso (1864-1865)\\ncronica/macr05.txt: Cartas fluminenses (1867)\\ncronica/macr06.txt: Badaladas (1871-1873)\\ncronica/macr07.txt: História de quinze dias (1876-1877)\\ncronica/macr08.txt: História dos trinta dias (1878)\\ncronica/macr09.txt: Notas semanais (1878)\\ncronica/macr10.txt: Balas de estalo (1883-1886)\\ncronica/macr11.txt: Bons dias! (1888-1889)\\ncronica/macr12.txt: A semana (1892-1800)\\ncronica/macr13.txt: O jornal e o livro (1859)\\ncronica/macr14.txt: A reforma pelo jornal (1859)\\ncronica/macr15.txt: Aquarelas (1859)\\ncronica/macr16.txt: O Visconde de Castilho (1875)\\ncronica/macr17.txt: Cherchez la femme (1881)\\ncronica/macr18.txt: José de Alencar (1883)\\ncronica/macr19.txt: Joaquim Serra (1888)\\ncronica/macr20.txt: O futuro dos argentinos (1888)\\ncronica/macr21.txt: Entre 1892 e 1894 (1892-1894)\\ncronica/macr22.txt: Henrique Chaves (1893)\\ncronica/macr23.txt: Henrique Lombaerts (1897)\\ncronica/macr24.txt: O velho Senado (1898)\\ncritica/mact01.txt: O Passado, o presente e o futuro da literatura (1858)\\ncritica/mact02.txt: Idéias sobre o teatro (1859)\\ncritica/mact03.txt: Revista dos teatros (1859)\\ncritica/mact04.txt: Revista Dramática (1860)\\ncritica/mact05.txt: A Crítica teatral. José de Alencar: Mãe (1860)\\ncritica/mact06.txt: Crítica variada - Diário do RJ (1862)\\ncritica/mact07.txt: Flores e Frutos, de Bruno Seabra (1862)\\ncritica/mact08.txt: Pareceres - Conservatório Dramático (1862-1864)\\ncritica/mact09.txt: Homem de Mello e B. Pinheiro \\x96 A Constituinte perante a História e Sombras e Luz (1863)\\ncritica/mact10.txt: Peregrinação pela província de S. Paulo , por A. E. Zaluar (1863)\\ncritica/mact11.txt: Revelações , de A. E. Zaluar (1863)\\ncritica/mact12.txt: Dois folhetins. Suplício de uma mulher (1865)\\ncritica/mact13.txt: O Ideal do crítico (1865)\\ncritica/mact14.txt: Álvares de Azevedo: Lira dos vinte anos (1866)\\ncritica/mact15.txt: Crítica teatral (1866)\\ncritica/mact16.txt: Fagundes Varela \\x96 Cantos e fantasias (1866)\\ncritica/mact17.txt: J .M. de Macedo: O culto do dever (1866)\\ncritica/mact18.txt: José de Alencar: Iracema (1866)\\ncritica/mact19.txt: Junqueira Freire: Inspirações do claustro (1866)\\ncritica/mact20.txt: Porto Alegre: Colombo (1866)\\ncritica/mact21.txt: Propósito (1866)\\ncritica/mact22.txt: Castro Alves (1868)\\ncritica/mact23.txt: Lúcio de Mendonça: Névoas matutinas (1872)\\ncritica/mact24.txt: Un cuento endemoniado e La mujer misteriosa , de Guilherme Malta (1872)\\ncritica/mact25.txt: Notícia da atual literatura brasileira: Instinto de nacionalidade (1873)\\ncritica/mact26.txt: Fagundes Varela (1875)\\ncritica/mact27.txt: Eça de Queirós: O primo Basílio (1878)\\ncritica/mact28.txt: Francisco de Castro: Harmonias errantes (1878)\\ncritica/mact29.txt: A Nova geração (1879)\\ncritica/mact30.txt: Carlos Jansen: Contos seletos das mil e uma noites (1882)\\ncritica/mact31.txt: Raimundo Correia: Sinfonias (1882)\\ncritica/mact32.txt: Alberto de Oliveira: Meridionais (1884)\\ncritica/mact33.txt: Enéias Galvão: Miragens (1885)\\ncritica/mact34.txt: L. L. Fernandes Pinheiro Júnior: Tipos e quadros (1886)\\ncritica/mact35.txt: José de Alencar: O Guarani (1887)\\ncritica/mact36.txt: Henriqueta Renan (1896)\\ncritica/mact37.txt: Discursos na Academia Brasileira de Letras (1897)\\ncritica/mact38.txt: Magalhães de Azeredo: Procelárias (1898)\\ncritica/mact39.txt: Cenas da vida amazônica , de José Veríssimo (1899)\\ncritica/mact40.txt: Garrett (1899)\\ncritica/mact41.txt: Eça de Queirós (1900)\\ncritica/mact42.txt: Eduardo Prado (1901)\\ncritica/mact43.txt: Magalhães de Azeredo e Mário de Alencar: Horas sagradas e Versos (1902)\\ncritica/mact44.txt: Oliveira Lima: Secretário d'el-rei (1904)\\ncritica/mact45.txt: Joaquim Nabuco: Pensées détachées et souvenirs (1906)\\n\\nMiscelanea\\n\\nmiscelanea/mams01.txt: Os imortais (1859)\\nmiscelanea/mams02.txt: Queda que as mulheres têm para os tolos (1861)\\nmiscelanea/mams03.txt: Carta ao Sr. Bispo do RJ (1862)\\nmiscelanea/mams04.txt: Carta à redação da Imprensa Acadêmica (1864)\\nmiscelanea/mams05.txt: Pedro Luís (1884)\\nmiscelanea/mams06.txt: A morte de Francisco Otaviano (1889)\\nmiscelanea/mams07.txt: Secretaria de Agricultura (1890)\\nmiscelanea/mams08.txt: A Paixão de Jesus (1904)\\nmiscelanea/mams09.txt: Gonçalves Dias (1906)\\nmiscelanea/mams10.txt: A Estátua de José de Alencar (1906)\\n\""
            ]
          },
          "metadata": {
            "tags": []
          },
          "execution_count": 4
        }
      ]
    },
    {
      "cell_type": "code",
      "metadata": {
        "id": "4ntwSbxIc84U",
        "colab_type": "code",
        "outputId": "58fb4b19-9ea6-44eb-b4ce-88db20bb851d",
        "colab": {
          "base_uri": "https://localhost:8080/",
          "height": 1000
        }
      },
      "source": [
        "machado.fileids()"
      ],
      "execution_count": 0,
      "outputs": [
        {
          "output_type": "execute_result",
          "data": {
            "text/plain": [
              "['contos/macn001.txt',\n",
              " 'contos/macn002.txt',\n",
              " 'contos/macn003.txt',\n",
              " 'contos/macn004.txt',\n",
              " 'contos/macn005.txt',\n",
              " 'contos/macn006.txt',\n",
              " 'contos/macn007.txt',\n",
              " 'contos/macn008.txt',\n",
              " 'contos/macn009.txt',\n",
              " 'contos/macn010.txt',\n",
              " 'contos/macn011.txt',\n",
              " 'contos/macn012.txt',\n",
              " 'contos/macn013.txt',\n",
              " 'contos/macn014.txt',\n",
              " 'contos/macn015.txt',\n",
              " 'contos/macn016.txt',\n",
              " 'contos/macn017.txt',\n",
              " 'contos/macn018.txt',\n",
              " 'contos/macn019.txt',\n",
              " 'contos/macn020.txt',\n",
              " 'contos/macn021.txt',\n",
              " 'contos/macn022.txt',\n",
              " 'contos/macn023.txt',\n",
              " 'contos/macn024.txt',\n",
              " 'contos/macn025.txt',\n",
              " 'contos/macn026.txt',\n",
              " 'contos/macn027.txt',\n",
              " 'contos/macn028.txt',\n",
              " 'contos/macn029.txt',\n",
              " 'contos/macn030.txt',\n",
              " 'contos/macn031.txt',\n",
              " 'contos/macn032.txt',\n",
              " 'contos/macn033.txt',\n",
              " 'contos/macn034.txt',\n",
              " 'contos/macn035.txt',\n",
              " 'contos/macn036.txt',\n",
              " 'contos/macn037.txt',\n",
              " 'contos/macn038.txt',\n",
              " 'contos/macn039.txt',\n",
              " 'contos/macn040.txt',\n",
              " 'contos/macn041.txt',\n",
              " 'contos/macn042.txt',\n",
              " 'contos/macn043.txt',\n",
              " 'contos/macn044.txt',\n",
              " 'contos/macn045.txt',\n",
              " 'contos/macn046.txt',\n",
              " 'contos/macn047.txt',\n",
              " 'contos/macn048.txt',\n",
              " 'contos/macn049.txt',\n",
              " 'contos/macn050.txt',\n",
              " 'contos/macn051.txt',\n",
              " 'contos/macn052.txt',\n",
              " 'contos/macn053.txt',\n",
              " 'contos/macn054.txt',\n",
              " 'contos/macn055.txt',\n",
              " 'contos/macn056.txt',\n",
              " 'contos/macn057.txt',\n",
              " 'contos/macn058.txt',\n",
              " 'contos/macn059.txt',\n",
              " 'contos/macn060.txt',\n",
              " 'contos/macn061.txt',\n",
              " 'contos/macn062.txt',\n",
              " 'contos/macn063.txt',\n",
              " 'contos/macn064.txt',\n",
              " 'contos/macn065.txt',\n",
              " 'contos/macn066.txt',\n",
              " 'contos/macn067.txt',\n",
              " 'contos/macn068.txt',\n",
              " 'contos/macn069.txt',\n",
              " 'contos/macn070.txt',\n",
              " 'contos/macn071.txt',\n",
              " 'contos/macn072.txt',\n",
              " 'contos/macn073.txt',\n",
              " 'contos/macn074.txt',\n",
              " 'contos/macn075.txt',\n",
              " 'contos/macn076.txt',\n",
              " 'contos/macn077.txt',\n",
              " 'contos/macn078.txt',\n",
              " 'contos/macn079.txt',\n",
              " 'contos/macn080.txt',\n",
              " 'contos/macn081.txt',\n",
              " 'contos/macn082.txt',\n",
              " 'contos/macn083.txt',\n",
              " 'contos/macn084.txt',\n",
              " 'contos/macn085.txt',\n",
              " 'contos/macn086.txt',\n",
              " 'contos/macn087.txt',\n",
              " 'contos/macn088.txt',\n",
              " 'contos/macn089.txt',\n",
              " 'contos/macn090.txt',\n",
              " 'contos/macn091.txt',\n",
              " 'contos/macn092.txt',\n",
              " 'contos/macn093.txt',\n",
              " 'contos/macn094.txt',\n",
              " 'contos/macn095.txt',\n",
              " 'contos/macn096.txt',\n",
              " 'contos/macn097.txt',\n",
              " 'contos/macn098.txt',\n",
              " 'contos/macn099.txt',\n",
              " 'contos/macn100.txt',\n",
              " 'contos/macn101.txt',\n",
              " 'contos/macn102.txt',\n",
              " 'contos/macn103.txt',\n",
              " 'contos/macn104.txt',\n",
              " 'contos/macn105.txt',\n",
              " 'contos/macn106.txt',\n",
              " 'contos/macn107.txt',\n",
              " 'contos/macn108.txt',\n",
              " 'contos/macn109.txt',\n",
              " 'contos/macn110.txt',\n",
              " 'contos/macn111.txt',\n",
              " 'contos/macn112.txt',\n",
              " 'contos/macn113.txt',\n",
              " 'contos/macn114.txt',\n",
              " 'contos/macn115.txt',\n",
              " 'contos/macn116.txt',\n",
              " 'contos/macn117.txt',\n",
              " 'contos/macn118.txt',\n",
              " 'contos/macn119.txt',\n",
              " 'contos/macn120.txt',\n",
              " 'contos/macn121.txt',\n",
              " 'contos/macn122.txt',\n",
              " 'contos/macn123.txt',\n",
              " 'contos/macn124.txt',\n",
              " 'contos/macn125.txt',\n",
              " 'contos/macn126.txt',\n",
              " 'contos/macn127.txt',\n",
              " 'contos/macn128.txt',\n",
              " 'contos/macn129.txt',\n",
              " 'contos/macn130.txt',\n",
              " 'contos/macn131.txt',\n",
              " 'contos/macn132.txt',\n",
              " 'contos/macn133.txt',\n",
              " 'contos/macn134.txt',\n",
              " 'contos/macn135.txt',\n",
              " 'contos/macn136.txt',\n",
              " 'contos/macn137.txt',\n",
              " 'critica/mact01.txt',\n",
              " 'critica/mact02.txt',\n",
              " 'critica/mact03.txt',\n",
              " 'critica/mact04.txt',\n",
              " 'critica/mact05.txt',\n",
              " 'critica/mact06.txt',\n",
              " 'critica/mact07.txt',\n",
              " 'critica/mact08.txt',\n",
              " 'critica/mact09.txt',\n",
              " 'critica/mact10.txt',\n",
              " 'critica/mact11.txt',\n",
              " 'critica/mact12.txt',\n",
              " 'critica/mact13.txt',\n",
              " 'critica/mact14.txt',\n",
              " 'critica/mact15.txt',\n",
              " 'critica/mact16.txt',\n",
              " 'critica/mact17.txt',\n",
              " 'critica/mact18.txt',\n",
              " 'critica/mact19.txt',\n",
              " 'critica/mact20.txt',\n",
              " 'critica/mact21.txt',\n",
              " 'critica/mact22.txt',\n",
              " 'critica/mact23.txt',\n",
              " 'critica/mact24.txt',\n",
              " 'critica/mact25.txt',\n",
              " 'critica/mact26.txt',\n",
              " 'critica/mact27.txt',\n",
              " 'critica/mact28.txt',\n",
              " 'critica/mact29.txt',\n",
              " 'critica/mact30.txt',\n",
              " 'critica/mact31.txt',\n",
              " 'critica/mact32.txt',\n",
              " 'critica/mact33.txt',\n",
              " 'critica/mact34.txt',\n",
              " 'critica/mact35.txt',\n",
              " 'critica/mact36.txt',\n",
              " 'critica/mact37.txt',\n",
              " 'critica/mact38.txt',\n",
              " 'critica/mact39.txt',\n",
              " 'critica/mact40.txt',\n",
              " 'critica/mact41.txt',\n",
              " 'critica/mact42.txt',\n",
              " 'critica/mact43.txt',\n",
              " 'critica/mact44.txt',\n",
              " 'critica/mact45.txt',\n",
              " 'cronica/macr01.txt',\n",
              " 'cronica/macr02.txt',\n",
              " 'cronica/macr03.txt',\n",
              " 'cronica/macr04.txt',\n",
              " 'cronica/macr05.txt',\n",
              " 'cronica/macr06.txt',\n",
              " 'cronica/macr07.txt',\n",
              " 'cronica/macr08.txt',\n",
              " 'cronica/macr09.txt',\n",
              " 'cronica/macr10.txt',\n",
              " 'cronica/macr11.txt',\n",
              " 'cronica/macr12.txt',\n",
              " 'cronica/macr13.txt',\n",
              " 'cronica/macr14.txt',\n",
              " 'cronica/macr15.txt',\n",
              " 'cronica/macr16.txt',\n",
              " 'cronica/macr17.txt',\n",
              " 'cronica/macr18.txt',\n",
              " 'cronica/macr19.txt',\n",
              " 'cronica/macr20.txt',\n",
              " 'cronica/macr21.txt',\n",
              " 'cronica/macr22.txt',\n",
              " 'cronica/macr23.txt',\n",
              " 'cronica/macr24.txt',\n",
              " 'miscelanea/mams01.txt',\n",
              " 'miscelanea/mams02.txt',\n",
              " 'miscelanea/mams03.txt',\n",
              " 'miscelanea/mams04.txt',\n",
              " 'miscelanea/mams05.txt',\n",
              " 'miscelanea/mams06.txt',\n",
              " 'miscelanea/mams07.txt',\n",
              " 'miscelanea/mams08.txt',\n",
              " 'miscelanea/mams09.txt',\n",
              " 'miscelanea/mams10.txt',\n",
              " 'poesia/maps01.txt',\n",
              " 'poesia/maps02.txt',\n",
              " 'poesia/maps03.txt',\n",
              " 'poesia/maps04.txt',\n",
              " 'poesia/maps05.txt',\n",
              " 'poesia/maps06.txt',\n",
              " 'poesia/maps07.txt',\n",
              " 'romance/marm01.txt',\n",
              " 'romance/marm02.txt',\n",
              " 'romance/marm03.txt',\n",
              " 'romance/marm04.txt',\n",
              " 'romance/marm05.txt',\n",
              " 'romance/marm06.txt',\n",
              " 'romance/marm07.txt',\n",
              " 'romance/marm08.txt',\n",
              " 'romance/marm09.txt',\n",
              " 'romance/marm10.txt',\n",
              " 'teatro/matt01.txt',\n",
              " 'teatro/matt02.txt',\n",
              " 'teatro/matt03.txt',\n",
              " 'teatro/matt04.txt',\n",
              " 'teatro/matt05.txt',\n",
              " 'teatro/matt06.txt',\n",
              " 'teatro/matt07.txt',\n",
              " 'teatro/matt08.txt',\n",
              " 'teatro/matt09.txt',\n",
              " 'teatro/matt10.txt',\n",
              " 'traducao/matr01.txt',\n",
              " 'traducao/matr02.txt',\n",
              " 'traducao/matr03.txt']"
            ]
          },
          "metadata": {
            "tags": []
          },
          "execution_count": 5
        }
      ]
    },
    {
      "cell_type": "code",
      "metadata": {
        "id": "HZkwqBcLemF3",
        "colab_type": "code",
        "colab": {}
      },
      "source": [
        "raw_text = machado.raw('romance/marm05.txt')"
      ],
      "execution_count": 0,
      "outputs": []
    },
    {
      "cell_type": "markdown",
      "metadata": {
        "id": "P9WjRFddDR0Q",
        "colab_type": "text"
      },
      "source": [
        "# New Section"
      ]
    },
    {
      "cell_type": "markdown",
      "metadata": {
        "id": "WjUwPoseentg",
        "colab_type": "text"
      },
      "source": [
        ""
      ]
    },
    {
      "cell_type": "code",
      "metadata": {
        "id": "_ZBX9W-8h9oX",
        "colab_type": "code",
        "colab": {}
      },
      "source": [
        "raw_text[5600:5800]"
      ],
      "execution_count": 0,
      "outputs": []
    },
    {
      "cell_type": "code",
      "metadata": {
        "id": "oID-O50vidds",
        "colab_type": "code",
        "outputId": "95f42cff-c664-4261-cf15-c745605f9ab0",
        "colab": {
          "base_uri": "https://localhost:8080/",
          "height": 35
        }
      },
      "source": [
        "texto1 = machado.words('romance/marm05.txt')\n",
        "texto1"
      ],
      "execution_count": 0,
      "outputs": [
        {
          "output_type": "execute_result",
          "data": {
            "text/plain": [
              "['Romance', ',', 'Memórias', 'Póstumas', 'de', 'Brás', ...]"
            ]
          },
          "metadata": {
            "tags": []
          },
          "execution_count": 17
        }
      ]
    },
    {
      "cell_type": "code",
      "metadata": {
        "id": "93iSW5mliqi4",
        "colab_type": "code",
        "outputId": "c82f1c2c-cd87-47ed-dddc-8997017c42aa",
        "colab": {
          "base_uri": "https://localhost:8080/",
          "height": 35
        }
      },
      "source": [
        "len(texto1)"
      ],
      "execution_count": 0,
      "outputs": [
        {
          "output_type": "execute_result",
          "data": {
            "text/plain": [
              "77098"
            ]
          },
          "metadata": {
            "tags": []
          },
          "execution_count": 18
        }
      ]
    },
    {
      "cell_type": "markdown",
      "metadata": {
        "id": "uEdbdUw2cOBd",
        "colab_type": "text"
      },
      "source": [
        "# Referências"
      ]
    },
    {
      "cell_type": "code",
      "metadata": {
        "id": "iCioJ4c3ipm_",
        "colab_type": "code",
        "colab": {}
      },
      "source": [
        ""
      ],
      "execution_count": 0,
      "outputs": []
    },
    {
      "cell_type": "code",
      "metadata": {
        "id": "GNGfpngcb0JW",
        "colab_type": "code",
        "colab": {}
      },
      "source": [
        ""
      ],
      "execution_count": 0,
      "outputs": []
    },
    {
      "cell_type": "markdown",
      "metadata": {
        "id": "-UUYO8H3hHHk",
        "colab_type": "text"
      },
      "source": [
        "http://www.eripi.com.br/2017/images/anais/minicursos/5.pdf\n",
        "\n",
        "http://www.nltk.org/howto/portuguese_en.html\n",
        "\n",
        "https://www.nltk.org/book/ch02.html\n",
        "\n",
        "https://medium.com/@viniljf/utilizando-processamento-de-linguagem-natural-para-criar-um-sumariza%C3%A7%C3%A3o-autom%C3%A1tica-de-textos-775cb428c84e\n",
        "\n",
        "https://medium.com/machina-sapiens/google-colab-guia-do-iniciante-334d70aad531\n",
        "https://leportella.com/pt-br/2017/11/30/brincando-de-nlp-com-spacy.html\n",
        "\n",
        "https://medium.com/text-classification-algorithms/text-classification-algorithms-a-survey-a215b7ab7e2d?fbclid=IwAR0ST9VpbrKf3pt2lrpu1TCHSQa3vR4iuxzzGzzEd6Gct6eoE1bE0M3Wctg\n"
      ]
    },
    {
      "cell_type": "code",
      "metadata": {
        "id": "DM8choAGIcVW",
        "colab_type": "code",
        "colab": {}
      },
      "source": [
        ""
      ],
      "execution_count": 0,
      "outputs": []
    }
  ]
}